{
 "cells": [
  {
   "cell_type": "markdown",
   "id": "09494868",
   "metadata": {},
   "source": [
    "### We analyze a bank transaction dataset. The dataset covers each customers transactions for every day in 2016 that happened in India. "
   ]
  },
  {
   "cell_type": "code",
   "execution_count": 1,
   "id": "95725ee0",
   "metadata": {},
   "outputs": [],
   "source": [
    "import pandas as pd\n",
    "from datetime import datetime, timedelta\n",
    "import matplotlib.pyplot as plt\n",
    "import plotly.express as px\n",
    "import seaborn as sns\n",
    "import numpy as np"
   ]
  },
  {
   "cell_type": "code",
   "execution_count": 2,
   "id": "e09642cc",
   "metadata": {},
   "outputs": [],
   "source": [
    "dfz = pd.read_csv('C:\\\\Users\\\\eleni\\\\Desktop\\\\bank_transactions.csv')"
   ]
  },
  {
   "cell_type": "code",
   "execution_count": 3,
   "id": "a5481625",
   "metadata": {},
   "outputs": [
    {
     "data": {
      "text/html": [
       "<div>\n",
       "<style scoped>\n",
       "    .dataframe tbody tr th:only-of-type {\n",
       "        vertical-align: middle;\n",
       "    }\n",
       "\n",
       "    .dataframe tbody tr th {\n",
       "        vertical-align: top;\n",
       "    }\n",
       "\n",
       "    .dataframe thead th {\n",
       "        text-align: right;\n",
       "    }\n",
       "</style>\n",
       "<table border=\"1\" class=\"dataframe\">\n",
       "  <thead>\n",
       "    <tr style=\"text-align: right;\">\n",
       "      <th></th>\n",
       "      <th>TransactionID</th>\n",
       "      <th>CustomerID</th>\n",
       "      <th>CustomerDOB</th>\n",
       "      <th>CustGender</th>\n",
       "      <th>CustLocation</th>\n",
       "      <th>CustAccountBalance</th>\n",
       "      <th>TransactionDate</th>\n",
       "      <th>TransactionTime</th>\n",
       "      <th>TransactionAmount (INR)</th>\n",
       "    </tr>\n",
       "  </thead>\n",
       "  <tbody>\n",
       "    <tr>\n",
       "      <th>0</th>\n",
       "      <td>T1</td>\n",
       "      <td>C5841053</td>\n",
       "      <td>10/1/94</td>\n",
       "      <td>F</td>\n",
       "      <td>JAMSHEDPUR</td>\n",
       "      <td>17819.05</td>\n",
       "      <td>2/8/16</td>\n",
       "      <td>143207</td>\n",
       "      <td>25.0</td>\n",
       "    </tr>\n",
       "    <tr>\n",
       "      <th>1</th>\n",
       "      <td>T2</td>\n",
       "      <td>C2142763</td>\n",
       "      <td>4/4/57</td>\n",
       "      <td>M</td>\n",
       "      <td>JHAJJAR</td>\n",
       "      <td>2270.69</td>\n",
       "      <td>2/8/16</td>\n",
       "      <td>141858</td>\n",
       "      <td>27999.0</td>\n",
       "    </tr>\n",
       "    <tr>\n",
       "      <th>2</th>\n",
       "      <td>T3</td>\n",
       "      <td>C4417068</td>\n",
       "      <td>26/11/96</td>\n",
       "      <td>F</td>\n",
       "      <td>MUMBAI</td>\n",
       "      <td>17874.44</td>\n",
       "      <td>2/8/16</td>\n",
       "      <td>142712</td>\n",
       "      <td>459.0</td>\n",
       "    </tr>\n",
       "    <tr>\n",
       "      <th>3</th>\n",
       "      <td>T4</td>\n",
       "      <td>C5342380</td>\n",
       "      <td>14/9/73</td>\n",
       "      <td>F</td>\n",
       "      <td>MUMBAI</td>\n",
       "      <td>866503.21</td>\n",
       "      <td>2/8/16</td>\n",
       "      <td>142714</td>\n",
       "      <td>2060.0</td>\n",
       "    </tr>\n",
       "    <tr>\n",
       "      <th>4</th>\n",
       "      <td>T5</td>\n",
       "      <td>C9031234</td>\n",
       "      <td>24/3/88</td>\n",
       "      <td>F</td>\n",
       "      <td>NAVI MUMBAI</td>\n",
       "      <td>6714.43</td>\n",
       "      <td>2/8/16</td>\n",
       "      <td>181156</td>\n",
       "      <td>1762.5</td>\n",
       "    </tr>\n",
       "  </tbody>\n",
       "</table>\n",
       "</div>"
      ],
      "text/plain": [
       "  TransactionID CustomerID CustomerDOB CustGender CustLocation  \\\n",
       "0            T1   C5841053     10/1/94          F   JAMSHEDPUR   \n",
       "1            T2   C2142763      4/4/57          M      JHAJJAR   \n",
       "2            T3   C4417068    26/11/96          F       MUMBAI   \n",
       "3            T4   C5342380     14/9/73          F       MUMBAI   \n",
       "4            T5   C9031234     24/3/88          F  NAVI MUMBAI   \n",
       "\n",
       "   CustAccountBalance TransactionDate  TransactionTime  \\\n",
       "0            17819.05          2/8/16           143207   \n",
       "1             2270.69          2/8/16           141858   \n",
       "2            17874.44          2/8/16           142712   \n",
       "3           866503.21          2/8/16           142714   \n",
       "4             6714.43          2/8/16           181156   \n",
       "\n",
       "   TransactionAmount (INR)  \n",
       "0                     25.0  \n",
       "1                  27999.0  \n",
       "2                    459.0  \n",
       "3                   2060.0  \n",
       "4                   1762.5  "
      ]
     },
     "execution_count": 3,
     "metadata": {},
     "output_type": "execute_result"
    }
   ],
   "source": [
    "dfz.head()"
   ]
  },
  {
   "cell_type": "code",
   "execution_count": 4,
   "id": "b8b6e8bf",
   "metadata": {},
   "outputs": [
    {
     "name": "stdout",
     "output_type": "stream",
     "text": [
      "<class 'pandas.core.frame.DataFrame'>\n",
      "RangeIndex: 1048567 entries, 0 to 1048566\n",
      "Data columns (total 9 columns):\n",
      " #   Column                   Non-Null Count    Dtype  \n",
      "---  ------                   --------------    -----  \n",
      " 0   TransactionID            1048567 non-null  object \n",
      " 1   CustomerID               1048567 non-null  object \n",
      " 2   CustomerDOB              1045170 non-null  object \n",
      " 3   CustGender               1047467 non-null  object \n",
      " 4   CustLocation             1048416 non-null  object \n",
      " 5   CustAccountBalance       1046198 non-null  float64\n",
      " 6   TransactionDate          1048567 non-null  object \n",
      " 7   TransactionTime          1048567 non-null  int64  \n",
      " 8   TransactionAmount (INR)  1048567 non-null  float64\n",
      "dtypes: float64(2), int64(1), object(6)\n",
      "memory usage: 72.0+ MB\n"
     ]
    }
   ],
   "source": [
    "dfz.info()"
   ]
  },
  {
   "cell_type": "markdown",
   "id": "42347063",
   "metadata": {},
   "source": [
    "Dataset preprocessing"
   ]
  },
  {
   "cell_type": "code",
   "execution_count": 5,
   "id": "b48267de",
   "metadata": {},
   "outputs": [
    {
     "data": {
      "text/html": [
       "<div>\n",
       "<style scoped>\n",
       "    .dataframe tbody tr th:only-of-type {\n",
       "        vertical-align: middle;\n",
       "    }\n",
       "\n",
       "    .dataframe tbody tr th {\n",
       "        vertical-align: top;\n",
       "    }\n",
       "\n",
       "    .dataframe thead th {\n",
       "        text-align: right;\n",
       "    }\n",
       "</style>\n",
       "<table border=\"1\" class=\"dataframe\">\n",
       "  <thead>\n",
       "    <tr style=\"text-align: right;\">\n",
       "      <th></th>\n",
       "      <th>CustAccountBalance</th>\n",
       "      <th>TransactionTime</th>\n",
       "      <th>TransactionAmount (INR)</th>\n",
       "    </tr>\n",
       "  </thead>\n",
       "  <tbody>\n",
       "    <tr>\n",
       "      <th>count</th>\n",
       "      <td>1.046198e+06</td>\n",
       "      <td>1.048567e+06</td>\n",
       "      <td>1.048567e+06</td>\n",
       "    </tr>\n",
       "    <tr>\n",
       "      <th>mean</th>\n",
       "      <td>1.154035e+05</td>\n",
       "      <td>1.570875e+05</td>\n",
       "      <td>1.574335e+03</td>\n",
       "    </tr>\n",
       "    <tr>\n",
       "      <th>std</th>\n",
       "      <td>8.464854e+05</td>\n",
       "      <td>5.126185e+04</td>\n",
       "      <td>6.574743e+03</td>\n",
       "    </tr>\n",
       "    <tr>\n",
       "      <th>min</th>\n",
       "      <td>0.000000e+00</td>\n",
       "      <td>0.000000e+00</td>\n",
       "      <td>0.000000e+00</td>\n",
       "    </tr>\n",
       "    <tr>\n",
       "      <th>25%</th>\n",
       "      <td>4.721760e+03</td>\n",
       "      <td>1.240300e+05</td>\n",
       "      <td>1.610000e+02</td>\n",
       "    </tr>\n",
       "    <tr>\n",
       "      <th>50%</th>\n",
       "      <td>1.679218e+04</td>\n",
       "      <td>1.642260e+05</td>\n",
       "      <td>4.590300e+02</td>\n",
       "    </tr>\n",
       "    <tr>\n",
       "      <th>75%</th>\n",
       "      <td>5.765736e+04</td>\n",
       "      <td>2.000100e+05</td>\n",
       "      <td>1.200000e+03</td>\n",
       "    </tr>\n",
       "    <tr>\n",
       "      <th>max</th>\n",
       "      <td>1.150355e+08</td>\n",
       "      <td>2.359590e+05</td>\n",
       "      <td>1.560035e+06</td>\n",
       "    </tr>\n",
       "  </tbody>\n",
       "</table>\n",
       "</div>"
      ],
      "text/plain": [
       "       CustAccountBalance  TransactionTime  TransactionAmount (INR)\n",
       "count        1.046198e+06     1.048567e+06             1.048567e+06\n",
       "mean         1.154035e+05     1.570875e+05             1.574335e+03\n",
       "std          8.464854e+05     5.126185e+04             6.574743e+03\n",
       "min          0.000000e+00     0.000000e+00             0.000000e+00\n",
       "25%          4.721760e+03     1.240300e+05             1.610000e+02\n",
       "50%          1.679218e+04     1.642260e+05             4.590300e+02\n",
       "75%          5.765736e+04     2.000100e+05             1.200000e+03\n",
       "max          1.150355e+08     2.359590e+05             1.560035e+06"
      ]
     },
     "execution_count": 5,
     "metadata": {},
     "output_type": "execute_result"
    }
   ],
   "source": [
    "dfz.describe()"
   ]
  },
  {
   "cell_type": "code",
   "execution_count": 6,
   "id": "0a0acc10",
   "metadata": {},
   "outputs": [
    {
     "name": "stdout",
     "output_type": "stream",
     "text": [
      "<class 'pandas.core.frame.DataFrame'>\n",
      "Int64Index: 104857 entries, 498122 to 258669\n",
      "Data columns (total 9 columns):\n",
      " #   Column                   Non-Null Count   Dtype  \n",
      "---  ------                   --------------   -----  \n",
      " 0   TransactionID            104857 non-null  object \n",
      " 1   CustomerID               104857 non-null  object \n",
      " 2   CustomerDOB              104522 non-null  object \n",
      " 3   CustGender               104746 non-null  object \n",
      " 4   CustLocation             104835 non-null  object \n",
      " 5   CustAccountBalance       104614 non-null  float64\n",
      " 6   TransactionDate          104857 non-null  object \n",
      " 7   TransactionTime          104857 non-null  int64  \n",
      " 8   TransactionAmount (INR)  104857 non-null  float64\n",
      "dtypes: float64(2), int64(1), object(6)\n",
      "memory usage: 8.0+ MB\n"
     ]
    }
   ],
   "source": [
    "df = dfz.sample(frac = 0.1, random_state=2050)\n",
    "df.info()"
   ]
  },
  {
   "cell_type": "code",
   "execution_count": 7,
   "id": "4456f73a",
   "metadata": {},
   "outputs": [],
   "source": [
    "df['TransactionID'] = df['TransactionID'].astype(str)\n",
    "df['CustomerID'] = df['CustomerID'].astype(str)"
   ]
  },
  {
   "cell_type": "code",
   "execution_count": 8,
   "id": "b3464ff5",
   "metadata": {},
   "outputs": [],
   "source": [
    "df['CustomerDOB'] = pd.to_datetime(df['CustomerDOB'])\n",
    "df['TransactionDate'] = pd.to_datetime(df['TransactionDate'])"
   ]
  },
  {
   "cell_type": "code",
   "execution_count": 9,
   "id": "daa5386b",
   "metadata": {},
   "outputs": [
    {
     "name": "stdout",
     "output_type": "stream",
     "text": [
      "<class 'pandas.core.frame.DataFrame'>\n",
      "Int64Index: 104857 entries, 498122 to 258669\n",
      "Data columns (total 9 columns):\n",
      " #   Column                   Non-Null Count   Dtype         \n",
      "---  ------                   --------------   -----         \n",
      " 0   TransactionID            104857 non-null  object        \n",
      " 1   CustomerID               104857 non-null  object        \n",
      " 2   CustomerDOB              104522 non-null  datetime64[ns]\n",
      " 3   CustGender               104746 non-null  object        \n",
      " 4   CustLocation             104835 non-null  object        \n",
      " 5   CustAccountBalance       104614 non-null  float64       \n",
      " 6   TransactionDate          104857 non-null  datetime64[ns]\n",
      " 7   TransactionTime          104857 non-null  int64         \n",
      " 8   TransactionAmount (INR)  104857 non-null  float64       \n",
      "dtypes: datetime64[ns](2), float64(2), int64(1), object(4)\n",
      "memory usage: 8.0+ MB\n"
     ]
    }
   ],
   "source": [
    "df.info()"
   ]
  },
  {
   "cell_type": "code",
   "execution_count": 10,
   "id": "3151ac43",
   "metadata": {},
   "outputs": [
    {
     "data": {
      "text/html": [
       "<div>\n",
       "<style scoped>\n",
       "    .dataframe tbody tr th:only-of-type {\n",
       "        vertical-align: middle;\n",
       "    }\n",
       "\n",
       "    .dataframe tbody tr th {\n",
       "        vertical-align: top;\n",
       "    }\n",
       "\n",
       "    .dataframe thead th {\n",
       "        text-align: right;\n",
       "    }\n",
       "</style>\n",
       "<table border=\"1\" class=\"dataframe\">\n",
       "  <thead>\n",
       "    <tr style=\"text-align: right;\">\n",
       "      <th></th>\n",
       "      <th>TransactionID</th>\n",
       "      <th>CustomerID</th>\n",
       "      <th>CustomerDOB</th>\n",
       "      <th>CustGender</th>\n",
       "      <th>CustLocation</th>\n",
       "      <th>CustAccountBalance</th>\n",
       "      <th>TransactionDate</th>\n",
       "      <th>TransactionTime</th>\n",
       "      <th>TransactionAmount (INR)</th>\n",
       "    </tr>\n",
       "  </thead>\n",
       "  <tbody>\n",
       "    <tr>\n",
       "      <th>924607</th>\n",
       "      <td>T924608</td>\n",
       "      <td>C3336582</td>\n",
       "      <td>1800-01-01</td>\n",
       "      <td>M</td>\n",
       "      <td>BADDI</td>\n",
       "      <td>5082.59</td>\n",
       "      <td>2016-11-09</td>\n",
       "      <td>132037</td>\n",
       "      <td>1500.00</td>\n",
       "    </tr>\n",
       "    <tr>\n",
       "      <th>926792</th>\n",
       "      <td>T926793</td>\n",
       "      <td>C3429031</td>\n",
       "      <td>1800-01-01</td>\n",
       "      <td>M</td>\n",
       "      <td>DELHI</td>\n",
       "      <td>32898.35</td>\n",
       "      <td>2016-11-09</td>\n",
       "      <td>91742</td>\n",
       "      <td>25.54</td>\n",
       "    </tr>\n",
       "    <tr>\n",
       "      <th>14878</th>\n",
       "      <td>T14879</td>\n",
       "      <td>C6239153</td>\n",
       "      <td>1800-01-01</td>\n",
       "      <td>NaN</td>\n",
       "      <td>NAVI MUMBAI</td>\n",
       "      <td>603.00</td>\n",
       "      <td>2016-09-26</td>\n",
       "      <td>163122</td>\n",
       "      <td>1494.00</td>\n",
       "    </tr>\n",
       "    <tr>\n",
       "      <th>295002</th>\n",
       "      <td>T295003</td>\n",
       "      <td>C1023981</td>\n",
       "      <td>1800-01-01</td>\n",
       "      <td>M</td>\n",
       "      <td>NOIDA</td>\n",
       "      <td>1937026.56</td>\n",
       "      <td>2016-11-08</td>\n",
       "      <td>201338</td>\n",
       "      <td>4810.00</td>\n",
       "    </tr>\n",
       "    <tr>\n",
       "      <th>568818</th>\n",
       "      <td>T568819</td>\n",
       "      <td>C6479423</td>\n",
       "      <td>1800-01-01</td>\n",
       "      <td>F</td>\n",
       "      <td>MUMBAI</td>\n",
       "      <td>582.72</td>\n",
       "      <td>2016-08-22</td>\n",
       "      <td>195109</td>\n",
       "      <td>490.00</td>\n",
       "    </tr>\n",
       "  </tbody>\n",
       "</table>\n",
       "</div>"
      ],
      "text/plain": [
       "       TransactionID CustomerID CustomerDOB CustGender CustLocation  \\\n",
       "924607       T924608   C3336582  1800-01-01          M        BADDI   \n",
       "926792       T926793   C3429031  1800-01-01          M        DELHI   \n",
       "14878         T14879   C6239153  1800-01-01        NaN  NAVI MUMBAI   \n",
       "295002       T295003   C1023981  1800-01-01          M        NOIDA   \n",
       "568818       T568819   C6479423  1800-01-01          F       MUMBAI   \n",
       "\n",
       "        CustAccountBalance TransactionDate  TransactionTime  \\\n",
       "924607             5082.59      2016-11-09           132037   \n",
       "926792            32898.35      2016-11-09            91742   \n",
       "14878               603.00      2016-09-26           163122   \n",
       "295002          1937026.56      2016-11-08           201338   \n",
       "568818              582.72      2016-08-22           195109   \n",
       "\n",
       "        TransactionAmount (INR)  \n",
       "924607                  1500.00  \n",
       "926792                    25.54  \n",
       "14878                   1494.00  \n",
       "295002                  4810.00  \n",
       "568818                   490.00  "
      ]
     },
     "execution_count": 10,
     "metadata": {},
     "output_type": "execute_result"
    }
   ],
   "source": [
    "df.sort_values('CustomerDOB', ascending=True).head()"
   ]
  },
  {
   "cell_type": "markdown",
   "id": "4bafe636",
   "metadata": {},
   "source": [
    "We notice that the conversion to datetime for CustomerDOB produces errors because for python time starts at 1970. We saw that the first DOB of the customers is 1930 so we will make a new column for the year of birth of each customer and then we will fix the dates."
   ]
  },
  {
   "cell_type": "markdown",
   "id": "1658e79b",
   "metadata": {},
   "source": [
    "We do not need the CustomerDOB anymore"
   ]
  },
  {
   "cell_type": "code",
   "execution_count": 11,
   "id": "e7bac040",
   "metadata": {},
   "outputs": [],
   "source": [
    "def date_convert(x):\n",
    "    if (x.year > 2022):\n",
    "        year = x.year - 100\n",
    "    else:\n",
    "        year = x.year\n",
    "    return year\n",
    "\n",
    "df['CustomerDOB'] = df['CustomerDOB'].apply(date_convert)"
   ]
  },
  {
   "cell_type": "code",
   "execution_count": 12,
   "id": "77a9f174",
   "metadata": {},
   "outputs": [],
   "source": [
    "df = df[df['CustomerDOB']>1900]"
   ]
  },
  {
   "cell_type": "code",
   "execution_count": 13,
   "id": "113ab3c7",
   "metadata": {},
   "outputs": [
    {
     "data": {
      "text/html": [
       "<div>\n",
       "<style scoped>\n",
       "    .dataframe tbody tr th:only-of-type {\n",
       "        vertical-align: middle;\n",
       "    }\n",
       "\n",
       "    .dataframe tbody tr th {\n",
       "        vertical-align: top;\n",
       "    }\n",
       "\n",
       "    .dataframe thead th {\n",
       "        text-align: right;\n",
       "    }\n",
       "</style>\n",
       "<table border=\"1\" class=\"dataframe\">\n",
       "  <thead>\n",
       "    <tr style=\"text-align: right;\">\n",
       "      <th></th>\n",
       "      <th>TransactionID</th>\n",
       "      <th>CustomerID</th>\n",
       "      <th>CustomerDOB</th>\n",
       "      <th>CustGender</th>\n",
       "      <th>CustLocation</th>\n",
       "      <th>CustAccountBalance</th>\n",
       "      <th>TransactionDate</th>\n",
       "      <th>TransactionTime</th>\n",
       "      <th>TransactionAmount (INR)</th>\n",
       "    </tr>\n",
       "  </thead>\n",
       "  <tbody>\n",
       "    <tr>\n",
       "      <th>890923</th>\n",
       "      <td>T890924</td>\n",
       "      <td>C8515033</td>\n",
       "      <td>1926.0</td>\n",
       "      <td>M</td>\n",
       "      <td>NEW DELHI</td>\n",
       "      <td>88439.77</td>\n",
       "      <td>2016-07-09</td>\n",
       "      <td>161851</td>\n",
       "      <td>2600.00</td>\n",
       "    </tr>\n",
       "    <tr>\n",
       "      <th>677896</th>\n",
       "      <td>T677897</td>\n",
       "      <td>C9015087</td>\n",
       "      <td>1926.0</td>\n",
       "      <td>M</td>\n",
       "      <td>NEW DELHI</td>\n",
       "      <td>88439.77</td>\n",
       "      <td>2016-08-28</td>\n",
       "      <td>125656</td>\n",
       "      <td>2351.32</td>\n",
       "    </tr>\n",
       "    <tr>\n",
       "      <th>795263</th>\n",
       "      <td>T795264</td>\n",
       "      <td>C1941434</td>\n",
       "      <td>1927.0</td>\n",
       "      <td>M</td>\n",
       "      <td>BANGALORE</td>\n",
       "      <td>386783.65</td>\n",
       "      <td>2016-05-09</td>\n",
       "      <td>121531</td>\n",
       "      <td>1071.00</td>\n",
       "    </tr>\n",
       "    <tr>\n",
       "      <th>797653</th>\n",
       "      <td>T797654</td>\n",
       "      <td>C4133337</td>\n",
       "      <td>1927.0</td>\n",
       "      <td>F</td>\n",
       "      <td>SAS NAGAR</td>\n",
       "      <td>524367.37</td>\n",
       "      <td>2016-05-09</td>\n",
       "      <td>135244</td>\n",
       "      <td>3200.00</td>\n",
       "    </tr>\n",
       "    <tr>\n",
       "      <th>451353</th>\n",
       "      <td>T451354</td>\n",
       "      <td>C4342824</td>\n",
       "      <td>1927.0</td>\n",
       "      <td>M</td>\n",
       "      <td>THANE WEST</td>\n",
       "      <td>847769.30</td>\n",
       "      <td>2016-08-16</td>\n",
       "      <td>195455</td>\n",
       "      <td>485.00</td>\n",
       "    </tr>\n",
       "  </tbody>\n",
       "</table>\n",
       "</div>"
      ],
      "text/plain": [
       "       TransactionID CustomerID  CustomerDOB CustGender CustLocation  \\\n",
       "890923       T890924   C8515033       1926.0          M    NEW DELHI   \n",
       "677896       T677897   C9015087       1926.0          M    NEW DELHI   \n",
       "795263       T795264   C1941434       1927.0          M    BANGALORE   \n",
       "797653       T797654   C4133337       1927.0          F    SAS NAGAR   \n",
       "451353       T451354   C4342824       1927.0          M   THANE WEST   \n",
       "\n",
       "        CustAccountBalance TransactionDate  TransactionTime  \\\n",
       "890923            88439.77      2016-07-09           161851   \n",
       "677896            88439.77      2016-08-28           125656   \n",
       "795263           386783.65      2016-05-09           121531   \n",
       "797653           524367.37      2016-05-09           135244   \n",
       "451353           847769.30      2016-08-16           195455   \n",
       "\n",
       "        TransactionAmount (INR)  \n",
       "890923                  2600.00  \n",
       "677896                  2351.32  \n",
       "795263                  1071.00  \n",
       "797653                  3200.00  \n",
       "451353                   485.00  "
      ]
     },
     "execution_count": 13,
     "metadata": {},
     "output_type": "execute_result"
    }
   ],
   "source": [
    "df.sort_values('CustomerDOB', ascending=True).head()"
   ]
  },
  {
   "cell_type": "markdown",
   "id": "6ec1cfab",
   "metadata": {},
   "source": [
    "### What is the average amount each customer has, based on their gender"
   ]
  },
  {
   "cell_type": "code",
   "execution_count": 14,
   "id": "00e53d04",
   "metadata": {},
   "outputs": [
    {
     "name": "stderr",
     "output_type": "stream",
     "text": [
      "C:\\Users\\eleni\\miniconda3\\lib\\site-packages\\seaborn\\_decorators.py:36: FutureWarning: Pass the following variables as keyword args: x, y. From version 0.12, the only valid positional argument will be `data`, and passing other arguments without an explicit keyword will result in an error or misinterpretation.\n",
      "  warnings.warn(\n"
     ]
    },
    {
     "data": {
      "image/png": "[encoded data removed]",
      "text/plain": [
       "<Figure size 360x360 with 1 Axes>"
      ]
     },
     "metadata": {
      "needs_background": "light"
     },
     "output_type": "display_data"
    }
   ],
   "source": [
    "data0 = df.groupby('CustGender')['CustAccountBalance'].mean()\n",
    "x = data0.keys()\n",
    "y = data0\n",
    "plt.figure(figsize=[5,5])\n",
    "sns.set_theme()\n",
    "chart = sns.barplot(x,y)\n",
    "plt.title('Average account balance per gender')\n",
    "plt.xlabel('Gender')\n",
    "plt.ylabel('Average Account Balance')\n",
    "chart.set_xticklabels(chart.get_xticklabels())\n",
    "None"
   ]
  },
  {
   "cell_type": "markdown",
   "id": "68214077",
   "metadata": {},
   "source": [
    "### What is the average amount each customer has, based on their age"
   ]
  },
  {
   "cell_type": "markdown",
   "id": "27fd51eb",
   "metadata": {},
   "source": [
    "We need to categorize each customer based on the decade they were born. In order to do this we change the variable from date to a categorical one."
   ]
  },
  {
   "cell_type": "code",
   "execution_count": 15,
   "id": "8a3b87fe",
   "metadata": {},
   "outputs": [],
   "source": [
    "cut_points = [1930, 1960, 1990, 2023]\n",
    "label_names = ['Over65', 'Adults', 'Under35']\n",
    "df['CustomerCat'] = pd.cut(df['CustomerDOB'], cut_points, labels=label_names)"
   ]
  },
  {
   "cell_type": "code",
   "execution_count": 16,
   "id": "8e352c10",
   "metadata": {},
   "outputs": [
    {
     "data": {
      "text/plain": [
       "['Adults', 'Under35', 'Over65', NaN]\n",
       "Categories (3, object): ['Over65' < 'Adults' < 'Under35']"
      ]
     },
     "execution_count": 16,
     "metadata": {},
     "output_type": "execute_result"
    }
   ],
   "source": [
    "df['CustomerCat'].unique()"
   ]
  },
  {
   "cell_type": "code",
   "execution_count": 17,
   "id": "40063175",
   "metadata": {},
   "outputs": [
    {
     "name": "stderr",
     "output_type": "stream",
     "text": [
      "C:\\Users\\eleni\\miniconda3\\lib\\site-packages\\seaborn\\_decorators.py:36: FutureWarning: Pass the following variables as keyword args: x, y. From version 0.12, the only valid positional argument will be `data`, and passing other arguments without an explicit keyword will result in an error or misinterpretation.\n",
      "  warnings.warn(\n"
     ]
    },
    {
     "data": {
      "image/png": "[encoded data removed]",
      "text/plain": [
       "<Figure size 360x360 with 1 Axes>"
      ]
     },
     "metadata": {},
     "output_type": "display_data"
    }
   ],
   "source": [
    "data1 = df.groupby('CustomerCat')['CustAccountBalance'].mean()\n",
    "x = data1.keys()\n",
    "y = data1\n",
    "plt.figure(figsize=[5,5])\n",
    "sns.set_theme()\n",
    "chart = sns.barplot(x,y)\n",
    "plt.title('Average account balance per age')\n",
    "plt.xlabel('Age')\n",
    "plt.ylabel('Average Account Balance')\n",
    "chart.set_xticklabels(chart.get_xticklabels())\n",
    "None"
   ]
  },
  {
   "cell_type": "markdown",
   "id": "5666b96e",
   "metadata": {},
   "source": [
    "### What is the average amount each gender has, based on their age"
   ]
  },
  {
   "cell_type": "code",
   "execution_count": 18,
   "id": "a75ca4ed",
   "metadata": {},
   "outputs": [
    {
     "data": {
      "text/html": [
       "<div>\n",
       "<style scoped>\n",
       "    .dataframe tbody tr th:only-of-type {\n",
       "        vertical-align: middle;\n",
       "    }\n",
       "\n",
       "    .dataframe tbody tr th {\n",
       "        vertical-align: top;\n",
       "    }\n",
       "\n",
       "    .dataframe thead th {\n",
       "        text-align: right;\n",
       "    }\n",
       "</style>\n",
       "<table border=\"1\" class=\"dataframe\">\n",
       "  <thead>\n",
       "    <tr style=\"text-align: right;\">\n",
       "      <th></th>\n",
       "      <th>CustomerCat</th>\n",
       "      <th>CustGender</th>\n",
       "      <th>CustAccountBalance</th>\n",
       "    </tr>\n",
       "  </thead>\n",
       "  <tbody>\n",
       "    <tr>\n",
       "      <th>0</th>\n",
       "      <td>Over65</td>\n",
       "      <td>F</td>\n",
       "      <td>291978.794234</td>\n",
       "    </tr>\n",
       "    <tr>\n",
       "      <th>1</th>\n",
       "      <td>Over65</td>\n",
       "      <td>M</td>\n",
       "      <td>460586.077879</td>\n",
       "    </tr>\n",
       "    <tr>\n",
       "      <th>2</th>\n",
       "      <td>Adults</td>\n",
       "      <td>F</td>\n",
       "      <td>109175.943148</td>\n",
       "    </tr>\n",
       "    <tr>\n",
       "      <th>3</th>\n",
       "      <td>Adults</td>\n",
       "      <td>M</td>\n",
       "      <td>117713.454681</td>\n",
       "    </tr>\n",
       "    <tr>\n",
       "      <th>4</th>\n",
       "      <td>Under35</td>\n",
       "      <td>F</td>\n",
       "      <td>36163.855633</td>\n",
       "    </tr>\n",
       "    <tr>\n",
       "      <th>5</th>\n",
       "      <td>Under35</td>\n",
       "      <td>M</td>\n",
       "      <td>33387.654892</td>\n",
       "    </tr>\n",
       "  </tbody>\n",
       "</table>\n",
       "</div>"
      ],
      "text/plain": [
       "  CustomerCat CustGender  CustAccountBalance\n",
       "0      Over65          F       291978.794234\n",
       "1      Over65          M       460586.077879\n",
       "2      Adults          F       109175.943148\n",
       "3      Adults          M       117713.454681\n",
       "4     Under35          F        36163.855633\n",
       "5     Under35          M        33387.654892"
      ]
     },
     "execution_count": 18,
     "metadata": {},
     "output_type": "execute_result"
    }
   ],
   "source": [
    "table = pd.pivot_table(df, values='CustAccountBalance', index=['CustomerCat','CustGender'], aggfunc=np.mean, fill_value=0)\n",
    "table = table.reset_index()\n",
    "table"
   ]
  },
  {
   "cell_type": "code",
   "execution_count": 19,
   "id": "2811053f",
   "metadata": {},
   "outputs": [
    {
     "data": {
      "image/png": "[encoded data removed]",
      "text/plain": [
       "<Figure size 360x360 with 1 Axes>"
      ]
     },
     "metadata": {},
     "output_type": "display_data"
    }
   ],
   "source": [
    "plt.figure(figsize=[5,5])\n",
    "chart = sns.barplot(x = 'CustomerCat', y= 'CustAccountBalance', hue = 'CustGender', data=table)\n",
    "plt.title('Number of transactions per age and gender')\n",
    "plt.xlabel('Age')\n",
    "plt.ylabel('Average Account Balance')\n",
    "chart.set_xticklabels(chart.get_xticklabels())\n",
    "None"
   ]
  },
  {
   "cell_type": "code",
   "execution_count": 20,
   "id": "84f3df40",
   "metadata": {},
   "outputs": [
    {
     "data": {
      "image/png": "[encoded data removed]",
      "text/plain": [
       "<Figure size 360x360 with 1 Axes>"
      ]
     },
     "metadata": {},
     "output_type": "display_data"
    }
   ],
   "source": [
    "plt.figure(figsize=[5,5])\n",
    "chart = sns.barplot(x = 'CustGender', y= 'CustAccountBalance', hue = 'CustomerCat', data=table)\n",
    "plt.title('Number of transactions per age and gender')\n",
    "plt.xlabel('Gender')\n",
    "plt.ylabel('Average Account Balance')\n",
    "chart.set_xticklabels(chart.get_xticklabels())\n",
    "None"
   ]
  },
  {
   "cell_type": "markdown",
   "id": "04d55c4b",
   "metadata": {},
   "source": [
    "### How many transactions happened every month of 2016"
   ]
  },
  {
   "cell_type": "code",
   "execution_count": 21,
   "id": "3d59261b",
   "metadata": {},
   "outputs": [],
   "source": [
    "df2 = df.copy()\n",
    "df2['TransMonth'] = df2['TransactionDate'].dt.month"
   ]
  },
  {
   "cell_type": "code",
   "execution_count": 22,
   "id": "e0c21450",
   "metadata": {},
   "outputs": [
    {
     "name": "stderr",
     "output_type": "stream",
     "text": [
      "C:\\Users\\eleni\\miniconda3\\lib\\site-packages\\seaborn\\_decorators.py:36: FutureWarning: Pass the following variables as keyword args: x, y. From version 0.12, the only valid positional argument will be `data`, and passing other arguments without an explicit keyword will result in an error or misinterpretation.\n",
      "  warnings.warn(\n"
     ]
    },
    {
     "data": {
      "image/png": "[encoded data removed]",
      "text/plain": [
       "<Figure size 360x360 with 1 Axes>"
      ]
     },
     "metadata": {},
     "output_type": "display_data"
    }
   ],
   "source": [
    "data = df2.groupby('TransMonth')['TransactionAmount (INR)'].count()\n",
    "x = data.keys()\n",
    "y = data\n",
    "plt.figure(figsize=[5,5])\n",
    "chart = sns.barplot(x,y)\n",
    "plt.title('Amount of transactions per month')\n",
    "plt.xlabel('Month')\n",
    "plt.ylabel('Amount of transactions')\n",
    "chart.set_xticklabels(chart.get_xticklabels())\n",
    "None"
   ]
  },
  {
   "cell_type": "markdown",
   "id": "74ab3efd",
   "metadata": {},
   "source": [
    "### What are the relative transactions based on the balance of the account"
   ]
  },
  {
   "cell_type": "code",
   "execution_count": 23,
   "id": "d7176f4f",
   "metadata": {},
   "outputs": [],
   "source": [
    "df3 = df.copy()\n",
    "df3['BalanceCat'] = pd.cut(df3['CustAccountBalance'],4, labels=['lowest whisker', 'lower quartile', 'upper quartile', 'upper whisker'])"
   ]
  },
  {
   "cell_type": "code",
   "execution_count": 24,
   "id": "d4f662ff",
   "metadata": {},
   "outputs": [
    {
     "data": {
      "text/plain": [
       "['lowest whisker', 'lower quartile', 'upper whisker', 'upper quartile']\n",
       "Categories (4, object): ['lowest whisker' < 'lower quartile' < 'upper quartile' < 'upper whisker']"
      ]
     },
     "execution_count": 24,
     "metadata": {},
     "output_type": "execute_result"
    }
   ],
   "source": [
    "df3['BalanceCat'].dropna().unique()"
   ]
  },
  {
   "cell_type": "code",
   "execution_count": 25,
   "id": "543a64b3",
   "metadata": {},
   "outputs": [
    {
     "name": "stderr",
     "output_type": "stream",
     "text": [
      "C:\\Users\\eleni\\miniconda3\\lib\\site-packages\\seaborn\\_decorators.py:36: FutureWarning: Pass the following variables as keyword args: x, y. From version 0.12, the only valid positional argument will be `data`, and passing other arguments without an explicit keyword will result in an error or misinterpretation.\n",
      "  warnings.warn(\n"
     ]
    },
    {
     "data": {
      "image/png": "[encoded data removed]",
      "text/plain": [
       "<Figure size 360x360 with 1 Axes>"
      ]
     },
     "metadata": {},
     "output_type": "display_data"
    }
   ],
   "source": [
    "data = df3.groupby('BalanceCat')['TransactionAmount (INR)'].mean()\n",
    "x = data.keys()\n",
    "y = data\n",
    "plt.figure(figsize=[5,5])\n",
    "sns.set_theme()\n",
    "chart = sns.barplot(x,y)\n",
    "plt.title('Average transaction amount per account balance')\n",
    "plt.xlabel('Acount balance')\n",
    "plt.ylabel('Average Transaction')\n",
    "chart.set_xticklabels(chart.get_xticklabels(),rotation=35)\n",
    "None"
   ]
  },
  {
   "cell_type": "markdown",
   "id": "1c054d41",
   "metadata": {},
   "source": [
    "# RFM"
   ]
  },
  {
   "cell_type": "code",
   "execution_count": 26,
   "id": "4f46955a",
   "metadata": {},
   "outputs": [],
   "source": [
    "dfz['TransactionDate'] = pd.to_datetime(dfz['TransactionDate'])\n",
    "dfz['TransactionID'] = dfz['TransactionID'].astype(str)\n",
    "dfz['CustomerID'] = dfz['CustomerID'].astype(str)"
   ]
  },
  {
   "cell_type": "code",
   "execution_count": 27,
   "id": "31286289",
   "metadata": {},
   "outputs": [
    {
     "name": "stdout",
     "output_type": "stream",
     "text": [
      "2016-12-10 00:00:00\n"
     ]
    }
   ],
   "source": [
    "snapshot_date = dfz['TransactionDate'].max() + timedelta(days=1)\n",
    "print(snapshot_date)"
   ]
  },
  {
   "cell_type": "code",
   "execution_count": 28,
   "id": "d6c31e3b",
   "metadata": {},
   "outputs": [],
   "source": [
    "data_process = dfz.groupby(['CustomerID']).agg({\n",
    "        'TransactionDate': lambda x: (snapshot_date - x.max()).days,\n",
    "        'TransactionID': 'count',\n",
    "        'TransactionAmount (INR)': 'sum'})"
   ]
  },
  {
   "cell_type": "code",
   "execution_count": 29,
   "id": "a7745ba1",
   "metadata": {},
   "outputs": [],
   "source": [
    "data_process.rename(columns={'TransactionDate': 'Recency',\n",
    "                         'TransactionID': 'Frequency',\n",
    "                         'TransactionAmount (INR)': 'MonetaryValue'}, inplace=True)\n"
   ]
  },
  {
   "cell_type": "code",
   "execution_count": 30,
   "id": "b0ff088b",
   "metadata": {},
   "outputs": [
    {
     "data": {
      "text/html": [
       "<div>\n",
       "<style scoped>\n",
       "    .dataframe tbody tr th:only-of-type {\n",
       "        vertical-align: middle;\n",
       "    }\n",
       "\n",
       "    .dataframe tbody tr th {\n",
       "        vertical-align: top;\n",
       "    }\n",
       "\n",
       "    .dataframe thead th {\n",
       "        text-align: right;\n",
       "    }\n",
       "</style>\n",
       "<table border=\"1\" class=\"dataframe\">\n",
       "  <thead>\n",
       "    <tr style=\"text-align: right;\">\n",
       "      <th></th>\n",
       "      <th>Recency</th>\n",
       "      <th>Frequency</th>\n",
       "      <th>MonetaryValue</th>\n",
       "    </tr>\n",
       "    <tr>\n",
       "      <th>CustomerID</th>\n",
       "      <th></th>\n",
       "      <th></th>\n",
       "      <th></th>\n",
       "    </tr>\n",
       "  </thead>\n",
       "  <tbody>\n",
       "    <tr>\n",
       "      <th>C1010011</th>\n",
       "      <td>75</td>\n",
       "      <td>2</td>\n",
       "      <td>5106.0</td>\n",
       "    </tr>\n",
       "    <tr>\n",
       "      <th>C1010012</th>\n",
       "      <td>118</td>\n",
       "      <td>1</td>\n",
       "      <td>1499.0</td>\n",
       "    </tr>\n",
       "    <tr>\n",
       "      <th>C1010014</th>\n",
       "      <td>155</td>\n",
       "      <td>2</td>\n",
       "      <td>1455.0</td>\n",
       "    </tr>\n",
       "    <tr>\n",
       "      <th>C1010018</th>\n",
       "      <td>86</td>\n",
       "      <td>1</td>\n",
       "      <td>30.0</td>\n",
       "    </tr>\n",
       "    <tr>\n",
       "      <th>C1010024</th>\n",
       "      <td>114</td>\n",
       "      <td>1</td>\n",
       "      <td>5000.0</td>\n",
       "    </tr>\n",
       "  </tbody>\n",
       "</table>\n",
       "</div>"
      ],
      "text/plain": [
       "            Recency  Frequency  MonetaryValue\n",
       "CustomerID                                   \n",
       "C1010011         75          2         5106.0\n",
       "C1010012        118          1         1499.0\n",
       "C1010014        155          2         1455.0\n",
       "C1010018         86          1           30.0\n",
       "C1010024        114          1         5000.0"
      ]
     },
     "execution_count": 30,
     "metadata": {},
     "output_type": "execute_result"
    }
   ],
   "source": [
    "r_labels = range(4, 0, -1)\n",
    "f_labels = range(1, 5)\n",
    "m_labels = range(1, 5)\n",
    "# Assign these labels to 4 equal percentile groups \n",
    "r_groups = pd.qcut(data_process['Recency'], q=4, labels=r_labels)\n",
    "# Assign these labels to 4 equal percentile groups \n",
    "f_groups = pd.qcut(data_process['Frequency'].rank(method='first'), q=4, labels=f_labels)\n",
    "# Assign these labels to three equal percentile groups \n",
    "m_groups = pd.qcut(data_process['MonetaryValue'], q=4, labels=m_labels)\n",
    "# Create new columns R,F and M \n",
    "rfm = data_process.assign(R = r_groups.values, F = f_groups.values,M = m_groups.values)\n",
    "data_process.head()"
   ]
  },
  {
   "cell_type": "code",
   "execution_count": 31,
   "id": "8438312e",
   "metadata": {},
   "outputs": [
    {
     "data": {
      "text/plain": [
       "CustomerID\n",
       "C1010011    12\n",
       "C1010012     6\n",
       "C1010014     8\n",
       "C1010018     6\n",
       "C1010024     7\n",
       "Name: RFM_Score, dtype: int64"
      ]
     },
     "execution_count": 31,
     "metadata": {},
     "output_type": "execute_result"
    }
   ],
   "source": [
    "rfm['RFM_Score'] = rfm[['R','F','M']].sum(axis=1)\n",
    "rfm['RFM_Score'].head()"
   ]
  },
  {
   "cell_type": "code",
   "execution_count": 32,
   "id": "f32cf5fd",
   "metadata": {},
   "outputs": [
    {
     "data": {
      "text/html": [
       "<div>\n",
       "<style scoped>\n",
       "    .dataframe tbody tr th:only-of-type {\n",
       "        vertical-align: middle;\n",
       "    }\n",
       "\n",
       "    .dataframe tbody tr th {\n",
       "        vertical-align: top;\n",
       "    }\n",
       "\n",
       "    .dataframe thead th {\n",
       "        text-align: right;\n",
       "    }\n",
       "</style>\n",
       "<table border=\"1\" class=\"dataframe\">\n",
       "  <thead>\n",
       "    <tr style=\"text-align: right;\">\n",
       "      <th></th>\n",
       "      <th>Recency</th>\n",
       "      <th>Frequency</th>\n",
       "      <th>MonetaryValue</th>\n",
       "      <th>R</th>\n",
       "      <th>F</th>\n",
       "      <th>M</th>\n",
       "      <th>RFM_Score</th>\n",
       "      <th>RFM_Level</th>\n",
       "    </tr>\n",
       "    <tr>\n",
       "      <th>CustomerID</th>\n",
       "      <th></th>\n",
       "      <th></th>\n",
       "      <th></th>\n",
       "      <th></th>\n",
       "      <th></th>\n",
       "      <th></th>\n",
       "      <th></th>\n",
       "      <th></th>\n",
       "    </tr>\n",
       "  </thead>\n",
       "  <tbody>\n",
       "    <tr>\n",
       "      <th>C1010011</th>\n",
       "      <td>75</td>\n",
       "      <td>2</td>\n",
       "      <td>5106.0</td>\n",
       "      <td>4</td>\n",
       "      <td>4</td>\n",
       "      <td>4</td>\n",
       "      <td>12</td>\n",
       "      <td>Elite Customers</td>\n",
       "    </tr>\n",
       "    <tr>\n",
       "      <th>C1010012</th>\n",
       "      <td>118</td>\n",
       "      <td>1</td>\n",
       "      <td>1499.0</td>\n",
       "      <td>2</td>\n",
       "      <td>1</td>\n",
       "      <td>3</td>\n",
       "      <td>6</td>\n",
       "      <td>Average Customers</td>\n",
       "    </tr>\n",
       "    <tr>\n",
       "      <th>C1010014</th>\n",
       "      <td>155</td>\n",
       "      <td>2</td>\n",
       "      <td>1455.0</td>\n",
       "      <td>1</td>\n",
       "      <td>4</td>\n",
       "      <td>3</td>\n",
       "      <td>8</td>\n",
       "      <td>Very Good Customers</td>\n",
       "    </tr>\n",
       "    <tr>\n",
       "      <th>C1010018</th>\n",
       "      <td>86</td>\n",
       "      <td>1</td>\n",
       "      <td>30.0</td>\n",
       "      <td>4</td>\n",
       "      <td>1</td>\n",
       "      <td>1</td>\n",
       "      <td>6</td>\n",
       "      <td>Average Customers</td>\n",
       "    </tr>\n",
       "    <tr>\n",
       "      <th>C1010024</th>\n",
       "      <td>114</td>\n",
       "      <td>1</td>\n",
       "      <td>5000.0</td>\n",
       "      <td>2</td>\n",
       "      <td>1</td>\n",
       "      <td>4</td>\n",
       "      <td>7</td>\n",
       "      <td>Good Customers</td>\n",
       "    </tr>\n",
       "  </tbody>\n",
       "</table>\n",
       "</div>"
      ],
      "text/plain": [
       "            Recency  Frequency  MonetaryValue  R  F  M  RFM_Score  \\\n",
       "CustomerID                                                          \n",
       "C1010011         75          2         5106.0  4  4  4         12   \n",
       "C1010012        118          1         1499.0  2  1  3          6   \n",
       "C1010014        155          2         1455.0  1  4  3          8   \n",
       "C1010018         86          1           30.0  4  1  1          6   \n",
       "C1010024        114          1         5000.0  2  1  4          7   \n",
       "\n",
       "                      RFM_Level  \n",
       "CustomerID                       \n",
       "C1010011        Elite Customers  \n",
       "C1010012      Average Customers  \n",
       "C1010014    Very Good Customers  \n",
       "C1010018      Average Customers  \n",
       "C1010024         Good Customers  "
      ]
     },
     "execution_count": 32,
     "metadata": {},
     "output_type": "execute_result"
    }
   ],
   "source": [
    "def rfm_level(df):\n",
    "    if df['RFM_Score'] >= 9:\n",
    "        return 'Elite Customers'\n",
    "    elif ((df['RFM_Score'] >= 8) and (df['RFM_Score'] < 9)):\n",
    "        return 'Very Good Customers'\n",
    "    elif ((df['RFM_Score'] >= 7) and (df['RFM_Score'] < 8)):\n",
    "        return 'Good Customers'\n",
    "    elif ((df['RFM_Score'] >= 6) and (df['RFM_Score'] < 7)):\n",
    "        return 'Average Customers'\n",
    "    elif ((df['RFM_Score'] >= 5) and (df['RFM_Score'] < 6)):\n",
    "        return 'Less Than Average Customers'\n",
    "    elif ((df['RFM_Score'] >= 4) and (df['RFM_Score'] < 5)):\n",
    "        return 'Relatively Inactive Customers'\n",
    "    else:\n",
    "        return 'Inactive Customers'\n",
    "# Create a new variable RFM_Level\n",
    "rfm['RFM_Level'] = rfm.apply(rfm_level, axis=1)\n",
    "# Print the header with top 5 rows to the CustomerID level\n",
    "rfm.head()"
   ]
  },
  {
   "cell_type": "code",
   "execution_count": 33,
   "id": "6f876805",
   "metadata": {},
   "outputs": [
    {
     "data": {
      "text/html": [
       "<div>\n",
       "<style scoped>\n",
       "    .dataframe tbody tr th:only-of-type {\n",
       "        vertical-align: middle;\n",
       "    }\n",
       "\n",
       "    .dataframe tbody tr th {\n",
       "        vertical-align: top;\n",
       "    }\n",
       "\n",
       "    .dataframe thead tr th {\n",
       "        text-align: left;\n",
       "    }\n",
       "\n",
       "    .dataframe thead tr:last-of-type th {\n",
       "        text-align: right;\n",
       "    }\n",
       "</style>\n",
       "<table border=\"1\" class=\"dataframe\">\n",
       "  <thead>\n",
       "    <tr>\n",
       "      <th></th>\n",
       "      <th>Recency</th>\n",
       "      <th>Frequency</th>\n",
       "      <th colspan=\"2\" halign=\"left\">MonetaryValue</th>\n",
       "    </tr>\n",
       "    <tr>\n",
       "      <th></th>\n",
       "      <th>mean</th>\n",
       "      <th>mean</th>\n",
       "      <th>mean</th>\n",
       "      <th>count</th>\n",
       "    </tr>\n",
       "    <tr>\n",
       "      <th>RFM_Level</th>\n",
       "      <th></th>\n",
       "      <th></th>\n",
       "      <th></th>\n",
       "      <th></th>\n",
       "    </tr>\n",
       "  </thead>\n",
       "  <tbody>\n",
       "    <tr>\n",
       "      <th>Average Customers</th>\n",
       "      <td>155.2</td>\n",
       "      <td>1.0</td>\n",
       "      <td>884.6</td>\n",
       "      <td>141806</td>\n",
       "    </tr>\n",
       "    <tr>\n",
       "      <th>Elite Customers</th>\n",
       "      <td>83.1</td>\n",
       "      <td>1.5</td>\n",
       "      <td>3553.3</td>\n",
       "      <td>283316</td>\n",
       "    </tr>\n",
       "    <tr>\n",
       "      <th>Good Customers</th>\n",
       "      <td>131.9</td>\n",
       "      <td>1.0</td>\n",
       "      <td>1355.5</td>\n",
       "      <td>152687</td>\n",
       "    </tr>\n",
       "    <tr>\n",
       "      <th>Inactive Customers</th>\n",
       "      <td>253.3</td>\n",
       "      <td>1.0</td>\n",
       "      <td>97.0</td>\n",
       "      <td>18361</td>\n",
       "    </tr>\n",
       "    <tr>\n",
       "      <th>Less Than Average Customers</th>\n",
       "      <td>182.5</td>\n",
       "      <td>1.0</td>\n",
       "      <td>303.8</td>\n",
       "      <td>97548</td>\n",
       "    </tr>\n",
       "    <tr>\n",
       "      <th>Relatively Inactive Customers</th>\n",
       "      <td>208.9</td>\n",
       "      <td>1.0</td>\n",
       "      <td>175.9</td>\n",
       "      <td>50642</td>\n",
       "    </tr>\n",
       "    <tr>\n",
       "      <th>Very Good Customers</th>\n",
       "      <td>114.4</td>\n",
       "      <td>1.1</td>\n",
       "      <td>1939.6</td>\n",
       "      <td>139905</td>\n",
       "    </tr>\n",
       "  </tbody>\n",
       "</table>\n",
       "</div>"
      ],
      "text/plain": [
       "                              Recency Frequency MonetaryValue        \n",
       "                                 mean      mean          mean   count\n",
       "RFM_Level                                                            \n",
       "Average Customers               155.2       1.0         884.6  141806\n",
       "Elite Customers                  83.1       1.5        3553.3  283316\n",
       "Good Customers                  131.9       1.0        1355.5  152687\n",
       "Inactive Customers              253.3       1.0          97.0   18361\n",
       "Less Than Average Customers     182.5       1.0         303.8   97548\n",
       "Relatively Inactive Customers   208.9       1.0         175.9   50642\n",
       "Very Good Customers             114.4       1.1        1939.6  139905"
      ]
     },
     "execution_count": 33,
     "metadata": {},
     "output_type": "execute_result"
    }
   ],
   "source": [
    "# Calculate average values for each RFM_Level, and return a size of each segment \n",
    "rfm_level_agg = rfm.groupby('RFM_Level').agg({\n",
    "    'Recency': 'mean',\n",
    "    'Frequency': 'mean',\n",
    "    'MonetaryValue': ['mean', 'count']\n",
    "}).round(1)\n",
    "# Print the aggregated dataset\n",
    "rfm_level_agg"
   ]
  },
  {
   "cell_type": "code",
   "execution_count": 34,
   "id": "41f75f08",
   "metadata": {},
   "outputs": [
    {
     "data": {
      "image/png": "[encoded data removed]",
      "text/plain": [
       "<Figure size 1440x792 with 1 Axes>"
      ]
     },
     "metadata": {},
     "output_type": "display_data"
    }
   ],
   "source": [
    "import squarify\n",
    "rfm_level_agg.columns = rfm_level_agg.columns.droplevel()\n",
    "rfm_level_agg.columns = ['RecencyMean','FrequencyMean','MonetaryMean', 'Count']\n",
    "#Create our plot and resize it.\n",
    "fig = plt.gcf()\n",
    "ax = fig.add_subplot()\n",
    "fig.set_size_inches(20, 11)\n",
    "squarify.plot(sizes=rfm_level_agg['Count'], \n",
    "              label=['Elite Customers',\n",
    "                     'Very Good Customers',\n",
    "                     'Good Customers',\n",
    "                     'Average Customers',\n",
    "                     'Less Than Average Customers', \n",
    "                     'Relatively Inactive Customers', \n",
    "                     'Inactive Customers'],\n",
    "              color=[\"green\",\"blue\", \"grey\",'skyblue','orange',\"red\",'pink'], alpha=.6 )\n",
    "plt.title(\"RFM Segments\",fontsize=18,fontweight=\"bold\")\n",
    "plt.axis('off')\n",
    "plt.show()"
   ]
  }
 ],
 "metadata": {
  "kernelspec": {
   "display_name": "Python 3 (ipykernel)",
   "language": "python",
   "name": "python3"
  },
  "language_info": {
   "codemirror_mode": {
    "name": "ipython",
    "version": 3
   },
   "file_extension": ".py",
   "mimetype": "text/x-python",
   "name": "python",
   "nbconvert_exporter": "python",
   "pygments_lexer": "ipython3",
   "version": "3.8.10"
  }
 },
 "nbformat": 4,
 "nbformat_minor": 5
}
